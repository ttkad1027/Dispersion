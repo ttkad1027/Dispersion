{
 "cells": [
  {
   "cell_type": "markdown",
   "metadata": {},
   "source": [
    "As original file names are weird... it is called things like:\n",
    "\n",
    "500option_ L2_options_20020201.csv .csv\n",
    "\n",
    "with 2 \".csv\" and strange space in between. The purpose of this program is simply to make it nicer name that pd.DataFrame can read"
   ]
  },
  {
   "cell_type": "code",
   "execution_count": 2,
   "metadata": {},
   "outputs": [],
   "source": [
    "import pandas as pd\n",
    "import numpy as np\n",
    "from os import listdir\n",
    "from os.path import isfile, join\n",
    "import os"
   ]
  },
  {
   "cell_type": "code",
   "execution_count": 112,
   "metadata": {},
   "outputs": [],
   "source": [
    "SB = \"D://SB/\"\n",
    "folders = [str(i)+\"con\" for i in range(2002,2019)]\n",
    "for folder in folders:\n",
    "    path = SB+folder+\"/option500\"\n",
    "    #files = [f for f in listdir(path) if isfile(join(path,f))]\n",
    "    for file in listdir(path):\n",
    "        if file[-5:] == \" .csv\":\n",
    "            os.rename(r''+path+'/'+file,r''+path+'/'+file[:10]+file[11:-5])"
   ]
  }
 ],
 "metadata": {
  "kernelspec": {
   "display_name": "Python 3",
   "language": "python",
   "name": "python3"
  },
  "language_info": {
   "codemirror_mode": {
    "name": "ipython",
    "version": 3
   },
   "file_extension": ".py",
   "mimetype": "text/x-python",
   "name": "python",
   "nbconvert_exporter": "python",
   "pygments_lexer": "ipython3",
   "version": "3.6.5"
  }
 },
 "nbformat": 4,
 "nbformat_minor": 2
}
