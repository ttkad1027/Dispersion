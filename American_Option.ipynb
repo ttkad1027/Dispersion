{
 "cells": [
  {
   "cell_type": "code",
   "execution_count": 4,
   "metadata": {},
   "outputs": [
    {
     "data": {
      "text/plain": [
       "'1.19'"
      ]
     },
     "execution_count": 4,
     "metadata": {},
     "output_type": "execute_result"
    }
   ],
   "source": [
    "import QuantLib as ql \n",
    "import matplotlib.pyplot as plt\n",
    "%matplotlib inline\n",
    "ql.__version__"
   ]
  },
  {
   "cell_type": "code",
   "execution_count": 54,
   "metadata": {},
   "outputs": [],
   "source": [
    "def American_Option(S,K,sigma,r,tau,option_type,q):\n",
    "    maturity_date = ql.Date(15, 1, 2016)\n",
    "    calculation_date = maturity_date - tau\n",
    "    spot_price = S\n",
    "    strike_price = K\n",
    "    volatility = sigma # the historical vols or implied vols\n",
    "    dividend_rate =  q\n",
    "    risk_free_rate = r\n",
    "    if option_type == 'Call':\n",
    "        option_type = ql.Option.Call\n",
    "    else:\n",
    "        option_type = ql.Option.Put\n",
    "        \n",
    "    day_count = ql.Actual365Fixed()\n",
    "    calendar = ql.UnitedStates()\n",
    "\n",
    "    ql.Settings.instance().evaluationDate = calculation_date\n",
    "\n",
    "    payoff = ql.PlainVanillaPayoff(option_type, strike_price)\n",
    "    settlement = calculation_date\n",
    "\n",
    "    am_exercise = ql.AmericanExercise(settlement, maturity_date)\n",
    "    american_option = ql.VanillaOption(payoff, am_exercise)\n",
    "\n",
    "\n",
    "\n",
    "    spot_handle = ql.QuoteHandle(\n",
    "        ql.SimpleQuote(spot_price)\n",
    "    )\n",
    "    flat_ts = ql.YieldTermStructureHandle(\n",
    "        ql.FlatForward(calculation_date, risk_free_rate, day_count)\n",
    "    )\n",
    "    dividend_yield = ql.YieldTermStructureHandle(\n",
    "        ql.FlatForward(calculation_date, dividend_rate, day_count)\n",
    "    )\n",
    "    flat_vol_ts = ql.BlackVolTermStructureHandle(\n",
    "        ql.BlackConstantVol(calculation_date, calendar, volatility, day_count)\n",
    "    )\n",
    "    bsm_process = ql.BlackScholesMertonProcess(spot_handle, \n",
    "                                               dividend_yield, \n",
    "                                               flat_ts, \n",
    "                                               flat_vol_ts)\n",
    "\n",
    "    steps = 200\n",
    "    binomial_engine = ql.BinomialVanillaEngine(bsm_process, \"crr\", steps)\n",
    "    american_option.setPricingEngine(binomial_engine)\n",
    "    return american_option.NPV()"
   ]
  },
  {
   "cell_type": "code",
   "execution_count": 56,
   "metadata": {},
   "outputs": [
    {
     "data": {
      "text/plain": [
       "1.2671894420422325"
      ]
     },
     "execution_count": 56,
     "metadata": {},
     "output_type": "execute_result"
    }
   ],
   "source": [
    "American_Option(116.32,115.,0.1779,0.02,15,'Call',0.1171875)"
   ]
  }
 ],
 "metadata": {
  "kernelspec": {
   "display_name": "Python 3",
   "language": "python",
   "name": "python3"
  },
  "language_info": {
   "codemirror_mode": {
    "name": "ipython",
    "version": 3
   },
   "file_extension": ".py",
   "mimetype": "text/x-python",
   "name": "python",
   "nbconvert_exporter": "python",
   "pygments_lexer": "ipython3",
   "version": "3.6.5"
  }
 },
 "nbformat": 4,
 "nbformat_minor": 2
}
